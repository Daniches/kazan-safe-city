{
  "nbformat": 4,
  "nbformat_minor": 0,
  "metadata": {
    "colab": {
      "name": "analytics.ipynb",
      "provenance": []
    },
    "kernelspec": {
      "name": "python3",
      "display_name": "Python 3"
    },
    "language_info": {
      "name": "python"
    }
  },
  "cells": [
    {
      "cell_type": "code",
      "metadata": {
        "id": "-x1GewE_GKr7"
      },
      "source": [
        "import pandas as pd\n",
        "import numpy as np\n",
        "import seaborn as sns"
      ],
      "execution_count": 2,
      "outputs": []
    },
    {
      "cell_type": "markdown",
      "metadata": {
        "id": "mjh_vWoeTJc4"
      },
      "source": [
        "Все данные для этого ноутбука - синтетические, поэтому могут не иметь сильной связи с реальностью. Цель данного ноутбука - показать, как можно использовать данные с камер, нацеленных на мусорные баки"
      ]
    },
    {
      "cell_type": "markdown",
      "metadata": {
        "id": "6lbslI8oT9Ls"
      },
      "source": [
        "Также, для упрощения прототипа мы:\n",
        "\n",
        "\n",
        "*   предполагаем количество баков равное одному\n",
        "*   оцениваем данные, приходящие с камер раз в час\n",
        "*   не оцениваем риски связанные с неточностью определения баков нейросетью \n",
        "\n",
        "Конечно же в финальном продукте нужно будет оценивать данные для реальных условий\n",
        "\n"
      ]
    },
    {
      "cell_type": "code",
      "metadata": {
        "id": "5lIZwoLDGT48"
      },
      "source": [
        "df = pd.read_excel('/content/drive/MyDrive/hackaton-trash/JP-notebooks/data.xlsx')"
      ],
      "execution_count": 4,
      "outputs": []
    },
    {
      "cell_type": "code",
      "metadata": {
        "colab": {
          "base_uri": "https://localhost:8080/",
          "height": 206
        },
        "id": "sXZWaC8NJyYg",
        "outputId": "47975f7c-ac24-4978-ab4a-68ab945766f8"
      },
      "source": [
        "df.head()"
      ],
      "execution_count": 5,
      "outputs": [
        {
          "output_type": "execute_result",
          "data": {
            "text/html": [
              "<div>\n",
              "<style scoped>\n",
              "    .dataframe tbody tr th:only-of-type {\n",
              "        vertical-align: middle;\n",
              "    }\n",
              "\n",
              "    .dataframe tbody tr th {\n",
              "        vertical-align: top;\n",
              "    }\n",
              "\n",
              "    .dataframe thead th {\n",
              "        text-align: right;\n",
              "    }\n",
              "</style>\n",
              "<table border=\"1\" class=\"dataframe\">\n",
              "  <thead>\n",
              "    <tr style=\"text-align: right;\">\n",
              "      <th></th>\n",
              "      <th>cam_id</th>\n",
              "      <th>time</th>\n",
              "      <th>cans_count</th>\n",
              "      <th>cans_full</th>\n",
              "    </tr>\n",
              "  </thead>\n",
              "  <tbody>\n",
              "    <tr>\n",
              "      <th>0</th>\n",
              "      <td>1</td>\n",
              "      <td>2021-03-12 00:00:00</td>\n",
              "      <td>1</td>\n",
              "      <td>0</td>\n",
              "    </tr>\n",
              "    <tr>\n",
              "      <th>1</th>\n",
              "      <td>1</td>\n",
              "      <td>2021-03-12 01:00:00</td>\n",
              "      <td>1</td>\n",
              "      <td>0</td>\n",
              "    </tr>\n",
              "    <tr>\n",
              "      <th>2</th>\n",
              "      <td>1</td>\n",
              "      <td>2021-03-12 02:00:00</td>\n",
              "      <td>1</td>\n",
              "      <td>0</td>\n",
              "    </tr>\n",
              "    <tr>\n",
              "      <th>3</th>\n",
              "      <td>1</td>\n",
              "      <td>2021-03-12 03:00:00</td>\n",
              "      <td>1</td>\n",
              "      <td>0</td>\n",
              "    </tr>\n",
              "    <tr>\n",
              "      <th>4</th>\n",
              "      <td>1</td>\n",
              "      <td>2021-03-12 04:00:00</td>\n",
              "      <td>1</td>\n",
              "      <td>0</td>\n",
              "    </tr>\n",
              "  </tbody>\n",
              "</table>\n",
              "</div>"
            ],
            "text/plain": [
              "   cam_id                time  cans_count  cans_full\n",
              "0       1 2021-03-12 00:00:00           1          0\n",
              "1       1 2021-03-12 01:00:00           1          0\n",
              "2       1 2021-03-12 02:00:00           1          0\n",
              "3       1 2021-03-12 03:00:00           1          0\n",
              "4       1 2021-03-12 04:00:00           1          0"
            ]
          },
          "metadata": {},
          "execution_count": 5
        }
      ]
    },
    {
      "cell_type": "markdown",
      "metadata": {
        "id": "js0kT52UK5R7"
      },
      "source": [
        "Определим, когда происходит вывоз мусора и заполнение баков.\n",
        "\n",
        "-1 в столбце change означает вывоз мусора\n",
        "\n",
        "1 в столбце change означает, что бак был заполнен"
      ]
    },
    {
      "cell_type": "code",
      "metadata": {
        "id": "mQIBb0vGLAlx"
      },
      "source": [
        "df['change'] = df['cans_full'].shift(1)\n",
        "df['change'] = df['cans_full'] - df['change']\n",
        "df['change'] = df['change'].fillna(0)"
      ],
      "execution_count": 6,
      "outputs": []
    },
    {
      "cell_type": "code",
      "metadata": {
        "colab": {
          "base_uri": "https://localhost:8080/",
          "height": 645
        },
        "id": "0PfO_M_pLsHs",
        "outputId": "ca36efb5-63d1-4de1-dc1b-5b2cddba010e"
      },
      "source": [
        "df[df['change']!=0]"
      ],
      "execution_count": 7,
      "outputs": [
        {
          "output_type": "execute_result",
          "data": {
            "text/html": [
              "<div>\n",
              "<style scoped>\n",
              "    .dataframe tbody tr th:only-of-type {\n",
              "        vertical-align: middle;\n",
              "    }\n",
              "\n",
              "    .dataframe tbody tr th {\n",
              "        vertical-align: top;\n",
              "    }\n",
              "\n",
              "    .dataframe thead th {\n",
              "        text-align: right;\n",
              "    }\n",
              "</style>\n",
              "<table border=\"1\" class=\"dataframe\">\n",
              "  <thead>\n",
              "    <tr style=\"text-align: right;\">\n",
              "      <th></th>\n",
              "      <th>cam_id</th>\n",
              "      <th>time</th>\n",
              "      <th>cans_count</th>\n",
              "      <th>cans_full</th>\n",
              "      <th>change</th>\n",
              "    </tr>\n",
              "  </thead>\n",
              "  <tbody>\n",
              "    <tr>\n",
              "      <th>13</th>\n",
              "      <td>1</td>\n",
              "      <td>2021-03-12 13:00:00</td>\n",
              "      <td>1</td>\n",
              "      <td>1</td>\n",
              "      <td>1.0</td>\n",
              "    </tr>\n",
              "    <tr>\n",
              "      <th>19</th>\n",
              "      <td>1</td>\n",
              "      <td>2021-03-12 19:00:00</td>\n",
              "      <td>1</td>\n",
              "      <td>0</td>\n",
              "      <td>-1.0</td>\n",
              "    </tr>\n",
              "    <tr>\n",
              "      <th>44</th>\n",
              "      <td>1</td>\n",
              "      <td>2021-03-13 20:00:00</td>\n",
              "      <td>1</td>\n",
              "      <td>1</td>\n",
              "      <td>1.0</td>\n",
              "    </tr>\n",
              "    <tr>\n",
              "      <th>55</th>\n",
              "      <td>1</td>\n",
              "      <td>2021-03-14 07:00:00</td>\n",
              "      <td>1</td>\n",
              "      <td>0</td>\n",
              "      <td>-1.0</td>\n",
              "    </tr>\n",
              "    <tr>\n",
              "      <th>71</th>\n",
              "      <td>1</td>\n",
              "      <td>2021-03-14 23:00:00</td>\n",
              "      <td>1</td>\n",
              "      <td>1</td>\n",
              "      <td>1.0</td>\n",
              "    </tr>\n",
              "    <tr>\n",
              "      <th>79</th>\n",
              "      <td>1</td>\n",
              "      <td>2021-03-15 07:00:00</td>\n",
              "      <td>1</td>\n",
              "      <td>0</td>\n",
              "      <td>-1.0</td>\n",
              "    </tr>\n",
              "    <tr>\n",
              "      <th>89</th>\n",
              "      <td>1</td>\n",
              "      <td>2021-03-15 17:00:00</td>\n",
              "      <td>1</td>\n",
              "      <td>1</td>\n",
              "      <td>1.0</td>\n",
              "    </tr>\n",
              "    <tr>\n",
              "      <th>105</th>\n",
              "      <td>1</td>\n",
              "      <td>2021-03-16 09:00:00</td>\n",
              "      <td>1</td>\n",
              "      <td>0</td>\n",
              "      <td>-1.0</td>\n",
              "    </tr>\n",
              "    <tr>\n",
              "      <th>129</th>\n",
              "      <td>1</td>\n",
              "      <td>2021-03-17 09:00:00</td>\n",
              "      <td>1</td>\n",
              "      <td>1</td>\n",
              "      <td>1.0</td>\n",
              "    </tr>\n",
              "    <tr>\n",
              "      <th>154</th>\n",
              "      <td>1</td>\n",
              "      <td>2021-03-18 10:00:00</td>\n",
              "      <td>1</td>\n",
              "      <td>0</td>\n",
              "      <td>-1.0</td>\n",
              "    </tr>\n",
              "    <tr>\n",
              "      <th>165</th>\n",
              "      <td>1</td>\n",
              "      <td>2021-03-18 21:00:00</td>\n",
              "      <td>1</td>\n",
              "      <td>1</td>\n",
              "      <td>1.0</td>\n",
              "    </tr>\n",
              "    <tr>\n",
              "      <th>181</th>\n",
              "      <td>1</td>\n",
              "      <td>2021-03-19 13:00:00</td>\n",
              "      <td>1</td>\n",
              "      <td>0</td>\n",
              "      <td>-1.0</td>\n",
              "    </tr>\n",
              "    <tr>\n",
              "      <th>191</th>\n",
              "      <td>1</td>\n",
              "      <td>2021-03-19 23:00:00</td>\n",
              "      <td>1</td>\n",
              "      <td>1</td>\n",
              "      <td>1.0</td>\n",
              "    </tr>\n",
              "    <tr>\n",
              "      <th>200</th>\n",
              "      <td>1</td>\n",
              "      <td>2021-03-20 08:00:00</td>\n",
              "      <td>1</td>\n",
              "      <td>0</td>\n",
              "      <td>-1.0</td>\n",
              "    </tr>\n",
              "    <tr>\n",
              "      <th>221</th>\n",
              "      <td>1</td>\n",
              "      <td>2021-03-21 05:00:00</td>\n",
              "      <td>1</td>\n",
              "      <td>1</td>\n",
              "      <td>1.0</td>\n",
              "    </tr>\n",
              "    <tr>\n",
              "      <th>227</th>\n",
              "      <td>1</td>\n",
              "      <td>2021-03-21 11:00:00</td>\n",
              "      <td>1</td>\n",
              "      <td>0</td>\n",
              "      <td>-1.0</td>\n",
              "    </tr>\n",
              "    <tr>\n",
              "      <th>245</th>\n",
              "      <td>1</td>\n",
              "      <td>2021-03-22 05:00:00</td>\n",
              "      <td>1</td>\n",
              "      <td>1</td>\n",
              "      <td>1.0</td>\n",
              "    </tr>\n",
              "    <tr>\n",
              "      <th>253</th>\n",
              "      <td>1</td>\n",
              "      <td>2021-03-22 13:00:00</td>\n",
              "      <td>1</td>\n",
              "      <td>0</td>\n",
              "      <td>-1.0</td>\n",
              "    </tr>\n",
              "    <tr>\n",
              "      <th>263</th>\n",
              "      <td>1</td>\n",
              "      <td>2021-03-22 23:00:00</td>\n",
              "      <td>1</td>\n",
              "      <td>1</td>\n",
              "      <td>1.0</td>\n",
              "    </tr>\n",
              "  </tbody>\n",
              "</table>\n",
              "</div>"
            ],
            "text/plain": [
              "     cam_id                time  cans_count  cans_full  change\n",
              "13        1 2021-03-12 13:00:00           1          1     1.0\n",
              "19        1 2021-03-12 19:00:00           1          0    -1.0\n",
              "44        1 2021-03-13 20:00:00           1          1     1.0\n",
              "55        1 2021-03-14 07:00:00           1          0    -1.0\n",
              "71        1 2021-03-14 23:00:00           1          1     1.0\n",
              "79        1 2021-03-15 07:00:00           1          0    -1.0\n",
              "89        1 2021-03-15 17:00:00           1          1     1.0\n",
              "105       1 2021-03-16 09:00:00           1          0    -1.0\n",
              "129       1 2021-03-17 09:00:00           1          1     1.0\n",
              "154       1 2021-03-18 10:00:00           1          0    -1.0\n",
              "165       1 2021-03-18 21:00:00           1          1     1.0\n",
              "181       1 2021-03-19 13:00:00           1          0    -1.0\n",
              "191       1 2021-03-19 23:00:00           1          1     1.0\n",
              "200       1 2021-03-20 08:00:00           1          0    -1.0\n",
              "221       1 2021-03-21 05:00:00           1          1     1.0\n",
              "227       1 2021-03-21 11:00:00           1          0    -1.0\n",
              "245       1 2021-03-22 05:00:00           1          1     1.0\n",
              "253       1 2021-03-22 13:00:00           1          0    -1.0\n",
              "263       1 2021-03-22 23:00:00           1          1     1.0"
            ]
          },
          "metadata": {},
          "execution_count": 7
        }
      ]
    },
    {
      "cell_type": "code",
      "metadata": {
        "id": "HjHw_vr3QvyD"
      },
      "source": [
        "df_change = df[df['change']!=0].copy()"
      ],
      "execution_count": 8,
      "outputs": []
    },
    {
      "cell_type": "markdown",
      "metadata": {
        "id": "XLof0KuIQJGM"
      },
      "source": [
        "Благодаря этим данным мы можем получить:\n",
        "1. График, показывающий когда подрядчик чаще всего вывозит мусор\n",
        "2. Среднее время между наполнением контейнера и его вывозом\n",
        "3. Среднее время заполнения бака после вывоза мусора\n",
        "4. Попадает ли подрядчик в нормы вывоза мусора (СанПин)"
      ]
    },
    {
      "cell_type": "markdown",
      "metadata": {
        "id": "lRIYv0p7TuWY"
      },
      "source": [
        "### Определение самого популярного времени вывоза мусора"
      ]
    },
    {
      "cell_type": "code",
      "metadata": {
        "id": "FPRncOksQzHq"
      },
      "source": [
        "df_change['hour'] = df_change['time'].dt.hour"
      ],
      "execution_count": 9,
      "outputs": []
    },
    {
      "cell_type": "code",
      "metadata": {
        "colab": {
          "base_uri": "https://localhost:8080/",
          "height": 351
        },
        "id": "ROvsV7EhSnWI",
        "outputId": "d3a2636c-3220-440b-82aa-2ccd05ef920b"
      },
      "source": [
        "sns.countplot(df_change['hour'])\n"
      ],
      "execution_count": 10,
      "outputs": [
        {
          "output_type": "stream",
          "name": "stderr",
          "text": [
            "/usr/local/lib/python3.7/dist-packages/seaborn/_decorators.py:43: FutureWarning: Pass the following variable as a keyword arg: x. From version 0.12, the only valid positional argument will be `data`, and passing other arguments without an explicit keyword will result in an error or misinterpretation.\n",
            "  FutureWarning\n"
          ]
        },
        {
          "output_type": "execute_result",
          "data": {
            "text/plain": [
              "<matplotlib.axes._subplots.AxesSubplot at 0x7f77d9daf890>"
            ]
          },
          "metadata": {},
          "execution_count": 10
        },
        {
          "output_type": "display_data",
          "data": {
            "image/png": "[encoded data removed]",
            "text/plain": [
              "<Figure size 432x288 with 1 Axes>"
            ]
          },
          "metadata": {
            "needs_background": "light"
          }
        }
      ]
    },
    {
      "cell_type": "markdown",
      "metadata": {
        "id": "aRLOduDXS-Ro"
      },
      "source": [
        "**По графику видно, что подрядчик чаще всего вывозит мусор около 13 дня и 23 вечера**"
      ]
    },
    {
      "cell_type": "code",
      "metadata": {
        "id": "9R0sUVapS8w0"
      },
      "source": [
        ""
      ],
      "execution_count": null,
      "outputs": []
    },
    {
      "cell_type": "markdown",
      "metadata": {
        "id": "6cexU5dtT0ZB"
      },
      "source": [
        "### Нахождение среднего времени заполнения бака и среднего времени, за которое мусор вывозится"
      ]
    },
    {
      "cell_type": "code",
      "metadata": {
        "id": "62AB_KzGUgC_"
      },
      "source": [
        "df_change['last_time'] = df_change['time'].shift(1)\n",
        "df_change['delta'] = df_change['time']-df_change['last_time']\n",
        "df_change = df_change.dropna()"
      ],
      "execution_count": 11,
      "outputs": []
    },
    {
      "cell_type": "code",
      "metadata": {
        "colab": {
          "base_uri": "https://localhost:8080/",
          "height": 614
        },
        "id": "D0sO21d7VcJQ",
        "outputId": "6dfd9728-5169-48a3-df9f-e791c11fda76"
      },
      "source": [
        "df_change"
      ],
      "execution_count": 12,
      "outputs": [
        {
          "output_type": "execute_result",
          "data": {
            "text/html": [
              "<div>\n",
              "<style scoped>\n",
              "    .dataframe tbody tr th:only-of-type {\n",
              "        vertical-align: middle;\n",
              "    }\n",
              "\n",
              "    .dataframe tbody tr th {\n",
              "        vertical-align: top;\n",
              "    }\n",
              "\n",
              "    .dataframe thead th {\n",
              "        text-align: right;\n",
              "    }\n",
              "</style>\n",
              "<table border=\"1\" class=\"dataframe\">\n",
              "  <thead>\n",
              "    <tr style=\"text-align: right;\">\n",
              "      <th></th>\n",
              "      <th>cam_id</th>\n",
              "      <th>time</th>\n",
              "      <th>cans_count</th>\n",
              "      <th>cans_full</th>\n",
              "      <th>change</th>\n",
              "      <th>hour</th>\n",
              "      <th>last_time</th>\n",
              "      <th>delta</th>\n",
              "    </tr>\n",
              "  </thead>\n",
              "  <tbody>\n",
              "    <tr>\n",
              "      <th>19</th>\n",
              "      <td>1</td>\n",
              "      <td>2021-03-12 19:00:00</td>\n",
              "      <td>1</td>\n",
              "      <td>0</td>\n",
              "      <td>-1.0</td>\n",
              "      <td>19</td>\n",
              "      <td>2021-03-12 13:00:00</td>\n",
              "      <td>0 days 06:00:00</td>\n",
              "    </tr>\n",
              "    <tr>\n",
              "      <th>44</th>\n",
              "      <td>1</td>\n",
              "      <td>2021-03-13 20:00:00</td>\n",
              "      <td>1</td>\n",
              "      <td>1</td>\n",
              "      <td>1.0</td>\n",
              "      <td>20</td>\n",
              "      <td>2021-03-12 19:00:00</td>\n",
              "      <td>1 days 01:00:00</td>\n",
              "    </tr>\n",
              "    <tr>\n",
              "      <th>55</th>\n",
              "      <td>1</td>\n",
              "      <td>2021-03-14 07:00:00</td>\n",
              "      <td>1</td>\n",
              "      <td>0</td>\n",
              "      <td>-1.0</td>\n",
              "      <td>7</td>\n",
              "      <td>2021-03-13 20:00:00</td>\n",
              "      <td>0 days 11:00:00</td>\n",
              "    </tr>\n",
              "    <tr>\n",
              "      <th>71</th>\n",
              "      <td>1</td>\n",
              "      <td>2021-03-14 23:00:00</td>\n",
              "      <td>1</td>\n",
              "      <td>1</td>\n",
              "      <td>1.0</td>\n",
              "      <td>23</td>\n",
              "      <td>2021-03-14 07:00:00</td>\n",
              "      <td>0 days 16:00:00</td>\n",
              "    </tr>\n",
              "    <tr>\n",
              "      <th>79</th>\n",
              "      <td>1</td>\n",
              "      <td>2021-03-15 07:00:00</td>\n",
              "      <td>1</td>\n",
              "      <td>0</td>\n",
              "      <td>-1.0</td>\n",
              "      <td>7</td>\n",
              "      <td>2021-03-14 23:00:00</td>\n",
              "      <td>0 days 08:00:00</td>\n",
              "    </tr>\n",
              "    <tr>\n",
              "      <th>89</th>\n",
              "      <td>1</td>\n",
              "      <td>2021-03-15 17:00:00</td>\n",
              "      <td>1</td>\n",
              "      <td>1</td>\n",
              "      <td>1.0</td>\n",
              "      <td>17</td>\n",
              "      <td>2021-03-15 07:00:00</td>\n",
              "      <td>0 days 10:00:00</td>\n",
              "    </tr>\n",
              "    <tr>\n",
              "      <th>105</th>\n",
              "      <td>1</td>\n",
              "      <td>2021-03-16 09:00:00</td>\n",
              "      <td>1</td>\n",
              "      <td>0</td>\n",
              "      <td>-1.0</td>\n",
              "      <td>9</td>\n",
              "      <td>2021-03-15 17:00:00</td>\n",
              "      <td>0 days 16:00:00</td>\n",
              "    </tr>\n",
              "    <tr>\n",
              "      <th>129</th>\n",
              "      <td>1</td>\n",
              "      <td>2021-03-17 09:00:00</td>\n",
              "      <td>1</td>\n",
              "      <td>1</td>\n",
              "      <td>1.0</td>\n",
              "      <td>9</td>\n",
              "      <td>2021-03-16 09:00:00</td>\n",
              "      <td>1 days 00:00:00</td>\n",
              "    </tr>\n",
              "    <tr>\n",
              "      <th>154</th>\n",
              "      <td>1</td>\n",
              "      <td>2021-03-18 10:00:00</td>\n",
              "      <td>1</td>\n",
              "      <td>0</td>\n",
              "      <td>-1.0</td>\n",
              "      <td>10</td>\n",
              "      <td>2021-03-17 09:00:00</td>\n",
              "      <td>1 days 01:00:00</td>\n",
              "    </tr>\n",
              "    <tr>\n",
              "      <th>165</th>\n",
              "      <td>1</td>\n",
              "      <td>2021-03-18 21:00:00</td>\n",
              "      <td>1</td>\n",
              "      <td>1</td>\n",
              "      <td>1.0</td>\n",
              "      <td>21</td>\n",
              "      <td>2021-03-18 10:00:00</td>\n",
              "      <td>0 days 11:00:00</td>\n",
              "    </tr>\n",
              "    <tr>\n",
              "      <th>181</th>\n",
              "      <td>1</td>\n",
              "      <td>2021-03-19 13:00:00</td>\n",
              "      <td>1</td>\n",
              "      <td>0</td>\n",
              "      <td>-1.0</td>\n",
              "      <td>13</td>\n",
              "      <td>2021-03-18 21:00:00</td>\n",
              "      <td>0 days 16:00:00</td>\n",
              "    </tr>\n",
              "    <tr>\n",
              "      <th>191</th>\n",
              "      <td>1</td>\n",
              "      <td>2021-03-19 23:00:00</td>\n",
              "      <td>1</td>\n",
              "      <td>1</td>\n",
              "      <td>1.0</td>\n",
              "      <td>23</td>\n",
              "      <td>2021-03-19 13:00:00</td>\n",
              "      <td>0 days 10:00:00</td>\n",
              "    </tr>\n",
              "    <tr>\n",
              "      <th>200</th>\n",
              "      <td>1</td>\n",
              "      <td>2021-03-20 08:00:00</td>\n",
              "      <td>1</td>\n",
              "      <td>0</td>\n",
              "      <td>-1.0</td>\n",
              "      <td>8</td>\n",
              "      <td>2021-03-19 23:00:00</td>\n",
              "      <td>0 days 09:00:00</td>\n",
              "    </tr>\n",
              "    <tr>\n",
              "      <th>221</th>\n",
              "      <td>1</td>\n",
              "      <td>2021-03-21 05:00:00</td>\n",
              "      <td>1</td>\n",
              "      <td>1</td>\n",
              "      <td>1.0</td>\n",
              "      <td>5</td>\n",
              "      <td>2021-03-20 08:00:00</td>\n",
              "      <td>0 days 21:00:00</td>\n",
              "    </tr>\n",
              "    <tr>\n",
              "      <th>227</th>\n",
              "      <td>1</td>\n",
              "      <td>2021-03-21 11:00:00</td>\n",
              "      <td>1</td>\n",
              "      <td>0</td>\n",
              "      <td>-1.0</td>\n",
              "      <td>11</td>\n",
              "      <td>2021-03-21 05:00:00</td>\n",
              "      <td>0 days 06:00:00</td>\n",
              "    </tr>\n",
              "    <tr>\n",
              "      <th>245</th>\n",
              "      <td>1</td>\n",
              "      <td>2021-03-22 05:00:00</td>\n",
              "      <td>1</td>\n",
              "      <td>1</td>\n",
              "      <td>1.0</td>\n",
              "      <td>5</td>\n",
              "      <td>2021-03-21 11:00:00</td>\n",
              "      <td>0 days 18:00:00</td>\n",
              "    </tr>\n",
              "    <tr>\n",
              "      <th>253</th>\n",
              "      <td>1</td>\n",
              "      <td>2021-03-22 13:00:00</td>\n",
              "      <td>1</td>\n",
              "      <td>0</td>\n",
              "      <td>-1.0</td>\n",
              "      <td>13</td>\n",
              "      <td>2021-03-22 05:00:00</td>\n",
              "      <td>0 days 08:00:00</td>\n",
              "    </tr>\n",
              "    <tr>\n",
              "      <th>263</th>\n",
              "      <td>1</td>\n",
              "      <td>2021-03-22 23:00:00</td>\n",
              "      <td>1</td>\n",
              "      <td>1</td>\n",
              "      <td>1.0</td>\n",
              "      <td>23</td>\n",
              "      <td>2021-03-22 13:00:00</td>\n",
              "      <td>0 days 10:00:00</td>\n",
              "    </tr>\n",
              "  </tbody>\n",
              "</table>\n",
              "</div>"
            ],
            "text/plain": [
              "     cam_id                time  ...           last_time           delta\n",
              "19        1 2021-03-12 19:00:00  ... 2021-03-12 13:00:00 0 days 06:00:00\n",
              "44        1 2021-03-13 20:00:00  ... 2021-03-12 19:00:00 1 days 01:00:00\n",
              "55        1 2021-03-14 07:00:00  ... 2021-03-13 20:00:00 0 days 11:00:00\n",
              "71        1 2021-03-14 23:00:00  ... 2021-03-14 07:00:00 0 days 16:00:00\n",
              "79        1 2021-03-15 07:00:00  ... 2021-03-14 23:00:00 0 days 08:00:00\n",
              "89        1 2021-03-15 17:00:00  ... 2021-03-15 07:00:00 0 days 10:00:00\n",
              "105       1 2021-03-16 09:00:00  ... 2021-03-15 17:00:00 0 days 16:00:00\n",
              "129       1 2021-03-17 09:00:00  ... 2021-03-16 09:00:00 1 days 00:00:00\n",
              "154       1 2021-03-18 10:00:00  ... 2021-03-17 09:00:00 1 days 01:00:00\n",
              "165       1 2021-03-18 21:00:00  ... 2021-03-18 10:00:00 0 days 11:00:00\n",
              "181       1 2021-03-19 13:00:00  ... 2021-03-18 21:00:00 0 days 16:00:00\n",
              "191       1 2021-03-19 23:00:00  ... 2021-03-19 13:00:00 0 days 10:00:00\n",
              "200       1 2021-03-20 08:00:00  ... 2021-03-19 23:00:00 0 days 09:00:00\n",
              "221       1 2021-03-21 05:00:00  ... 2021-03-20 08:00:00 0 days 21:00:00\n",
              "227       1 2021-03-21 11:00:00  ... 2021-03-21 05:00:00 0 days 06:00:00\n",
              "245       1 2021-03-22 05:00:00  ... 2021-03-21 11:00:00 0 days 18:00:00\n",
              "253       1 2021-03-22 13:00:00  ... 2021-03-22 05:00:00 0 days 08:00:00\n",
              "263       1 2021-03-22 23:00:00  ... 2021-03-22 13:00:00 0 days 10:00:00\n",
              "\n",
              "[18 rows x 8 columns]"
            ]
          },
          "metadata": {},
          "execution_count": 12
        }
      ]
    },
    {
      "cell_type": "code",
      "metadata": {
        "colab": {
          "base_uri": "https://localhost:8080/"
        },
        "id": "wf92F3lHVwfi",
        "outputId": "7e2f1a54-9004-4dd6-f6a8-4a1c50d9b257"
      },
      "source": [
        "df_change[df_change['change'] == 1].delta.mean()"
      ],
      "execution_count": 13,
      "outputs": [
        {
          "output_type": "execute_result",
          "data": {
            "text/plain": [
              "Timedelta('0 days 16:06:40')"
            ]
          },
          "metadata": {},
          "execution_count": 13
        }
      ]
    },
    {
      "cell_type": "markdown",
      "metadata": {
        "id": "S-e9P3xoV_kI"
      },
      "source": [
        "**Среднее время, за которое бак заполняется: ~16 часов**"
      ]
    },
    {
      "cell_type": "code",
      "metadata": {
        "colab": {
          "base_uri": "https://localhost:8080/"
        },
        "id": "7RAXTgwvWVNI",
        "outputId": "3684237f-0318-49e8-f034-5f028a159f74"
      },
      "source": [
        "df_change[df_change['change'] == -1].delta.mean()"
      ],
      "execution_count": 14,
      "outputs": [
        {
          "output_type": "execute_result",
          "data": {
            "text/plain": [
              "Timedelta('0 days 11:40:00')"
            ]
          },
          "metadata": {},
          "execution_count": 14
        }
      ]
    },
    {
      "cell_type": "markdown",
      "metadata": {
        "id": "mqhJu3RoWeCe"
      },
      "source": [
        "**Среднее время, которое бак стоит заполненным: ~12 часов**"
      ]
    },
    {
      "cell_type": "markdown",
      "metadata": {
        "id": "lz3zndyNWrKe"
      },
      "source": [
        "### Определение попадания в нормы СанПина\n",
        "Предложение: оценивать как часто подрядчик не вывозит мусор дольше суток"
      ]
    },
    {
      "cell_type": "code",
      "metadata": {
        "colab": {
          "base_uri": "https://localhost:8080/",
          "height": 81
        },
        "id": "s05SH-ndW622",
        "outputId": "96cf843c-c411-41a4-c1da-c0fc940066cd"
      },
      "source": [
        "df_change[(df_change['change'] == -1) & (df_change['delta'] > pd.Timedelta(days=1))]"
      ],
      "execution_count": 16,
      "outputs": [
        {
          "output_type": "execute_result",
          "data": {
            "text/html": [
              "<div>\n",
              "<style scoped>\n",
              "    .dataframe tbody tr th:only-of-type {\n",
              "        vertical-align: middle;\n",
              "    }\n",
              "\n",
              "    .dataframe tbody tr th {\n",
              "        vertical-align: top;\n",
              "    }\n",
              "\n",
              "    .dataframe thead th {\n",
              "        text-align: right;\n",
              "    }\n",
              "</style>\n",
              "<table border=\"1\" class=\"dataframe\">\n",
              "  <thead>\n",
              "    <tr style=\"text-align: right;\">\n",
              "      <th></th>\n",
              "      <th>cam_id</th>\n",
              "      <th>time</th>\n",
              "      <th>cans_count</th>\n",
              "      <th>cans_full</th>\n",
              "      <th>change</th>\n",
              "      <th>hour</th>\n",
              "      <th>last_time</th>\n",
              "      <th>delta</th>\n",
              "    </tr>\n",
              "  </thead>\n",
              "  <tbody>\n",
              "    <tr>\n",
              "      <th>154</th>\n",
              "      <td>1</td>\n",
              "      <td>2021-03-18 10:00:00</td>\n",
              "      <td>1</td>\n",
              "      <td>0</td>\n",
              "      <td>-1.0</td>\n",
              "      <td>10</td>\n",
              "      <td>2021-03-17 09:00:00</td>\n",
              "      <td>1 days 01:00:00</td>\n",
              "    </tr>\n",
              "  </tbody>\n",
              "</table>\n",
              "</div>"
            ],
            "text/plain": [
              "     cam_id                time  ...           last_time           delta\n",
              "154       1 2021-03-18 10:00:00  ... 2021-03-17 09:00:00 1 days 01:00:00\n",
              "\n",
              "[1 rows x 8 columns]"
            ]
          },
          "metadata": {},
          "execution_count": 16
        }
      ]
    },
    {
      "cell_type": "code",
      "metadata": {
        "id": "7CSkgrjdYH93"
      },
      "source": [
        ""
      ],
      "execution_count": null,
      "outputs": []
    },
    {
      "cell_type": "markdown",
      "metadata": {
        "id": "3Ef-_qcpYI08"
      },
      "source": [
        "**Видим, что подрядчик 18 марта не вывозил мусор в течение 25 часов**"
      ]
    },
    {
      "cell_type": "markdown",
      "metadata": {
        "id": "IeMXRH9CYY7w"
      },
      "source": [
        "!TODO: прикрутить зависимость промежутка, в течение которого подрядчик должен вывозить мусор согласно нормам СанПина. Для этого подключить датасет с температурой воздуха в Казани "
      ]
    }
  ]
}